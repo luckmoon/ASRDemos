{
 "cells": [
  {
   "cell_type": "code",
   "execution_count": 115,
   "metadata": {},
   "outputs": [],
   "source": [
    "import pickle\n",
    "import numpy as np\n",
    "np.set_printoptions(suppress=True)"
   ]
  },
  {
   "cell_type": "code",
   "execution_count": 116,
   "metadata": {},
   "outputs": [],
   "source": [
    "saved_info = '../data/hmm.pkl'"
   ]
  },
  {
   "cell_type": "code",
   "execution_count": 117,
   "metadata": {},
   "outputs": [],
   "source": [
    "with open(saved_info, 'rb') as fin:\n",
    "    hmm = pickle.load(fin)"
   ]
  },
  {
   "cell_type": "code",
   "execution_count": 118,
   "metadata": {},
   "outputs": [
    {
     "data": {
      "text/plain": [
       "(array([3, 2, 2, 2, 0]),\n",
       " array([0.45394818, 0.21555641, 0.33049541]),\n",
       " array([[0.4213136 , 0.46357142, 0.11511499],\n",
       "        [0.26773101, 0.41561989, 0.3166491 ],\n",
       "        [0.4621726 , 0.28426716, 0.25356024]]),\n",
       " array([[0.30918247, 0.45485864, 0.46252636, 0.36956665],\n",
       "        [0.34031305, 0.51317086, 0.37998398, 0.35372579],\n",
       "        [0.35050448, 0.0319705 , 0.15748966, 0.27670756]]),\n",
       " 3,\n",
       " 4,\n",
       " 5)"
      ]
     },
     "execution_count": 118,
     "metadata": {},
     "output_type": "execute_result"
    }
   ],
   "source": [
    "hmm"
   ]
  },
  {
   "cell_type": "code",
   "execution_count": 119,
   "metadata": {},
   "outputs": [],
   "source": [
    "O,pi,a,b,N,M,T = hmm"
   ]
  },
  {
   "cell_type": "code",
   "execution_count": 120,
   "metadata": {},
   "outputs": [
    {
     "name": "stdout",
     "output_type": "stream",
     "text": [
      "3 4 5 <class 'int'>\n"
     ]
    }
   ],
   "source": [
    "print(N, M, T, type(N))"
   ]
  },
  {
   "cell_type": "code",
   "execution_count": 121,
   "metadata": {},
   "outputs": [
    {
     "name": "stdout",
     "output_type": "stream",
     "text": [
      "[[0.16776411 0.         0.         0.         0.        ]\n",
      " [0.07624786 0.         0.         0.         0.        ]\n",
      " [0.09145058 0.         0.         0.         0.        ]]\n",
      "[[0.16776411 0.06168306 0.0206376  0.00739148 0.00178391]\n",
      " [0.07624786 0.05147155 0.02012802 0.00725743 0.00234173]\n",
      " [0.09145058 0.01049577 0.00410424 0.00154181 0.00124074]]\n"
     ]
    },
    {
     "data": {
      "text/plain": [
       "0.005366372712466162"
      ]
     },
     "execution_count": 121,
     "metadata": {},
     "output_type": "execute_result"
    }
   ],
   "source": [
    "def forward():\n",
    "    dp = np.zeros((N, T))\n",
    "    for s in range(N):\n",
    "        dp[s, 0] = pi[s]*b[s, O[0]]\n",
    "    print(dp)\n",
    "    # 先遍历 t，后遍历 s\n",
    "    for t in range(1, T):\n",
    "        for s in range(N):\n",
    "            for s_prime in range(N):\n",
    "                dp[s][t] += dp[s_prime][t-1]*a[s_prime][s]*b[s, O[t]]\n",
    "    print(dp)\n",
    "    return dp[:, -1].sum()\n",
    "forward()"
   ]
  },
  {
   "cell_type": "code",
   "execution_count": 122,
   "metadata": {},
   "outputs": [
    {
     "name": "stdout",
     "output_type": "stream",
     "text": [
      "[[0.16776411 0.         0.         0.         0.        ]\n",
      " [0.07624786 0.         0.         0.         0.        ]\n",
      " [0.09145058 0.         0.         0.         0.        ]]\n",
      "[[0.16776411 0.03269196 0.00637064 0.00124144 0.00016171]\n",
      " [0.07624786 0.0295516  0.00575868 0.00112219 0.00019585]\n",
      " [0.09145058 0.0038024  0.00147371 0.00028718 0.00012455]]\n",
      "[[0 0 0 0 0]\n",
      " [1 0 0 0 0]\n",
      " [2 1 1 1 1]]\n",
      "1\n"
     ]
    },
    {
     "data": {
      "text/plain": [
       "[0, 0, 0, 0, 1]"
      ]
     },
     "execution_count": 122,
     "metadata": {},
     "output_type": "execute_result"
    }
   ],
   "source": [
    "def viterbi():\n",
    "    dp = np.zeros((N, T))\n",
    "    # 保存各个时刻从哪个状态转移到当前状态后发射出观测的概率最大\n",
    "    records = np.zeros((N, T), dtype=np.int32)\n",
    "    for s in range(N):\n",
    "        dp[s, 0] = pi[s]*b[s, O[0]]\n",
    "        records[s, 0] = s\n",
    "    print(dp)\n",
    "    for t in range(1, T):\n",
    "        for s in range(N):\n",
    "            temp = np.zeros(N)\n",
    "            for s_prime in range(N):\n",
    "                temp[s_prime] = dp[s_prime][t-1]*a[s_prime][s]*b[s, O[t]]\n",
    "            records[s, t] = temp.argmax()\n",
    "            dp[s, t] = temp.max()\n",
    "    print(dp)\n",
    "    print(records)\n",
    "    # 最后时刻还没有找出哪个最大\n",
    "    final_argmax = dp[:, -1].argmax()\n",
    "    print(final_argmax)\n",
    "    # 回溯\n",
    "    res = []\n",
    "    max_state = final_argmax\n",
    "    for t in reversed(range(T)):\n",
    "        res.append(max_state)\n",
    "        max_state = records[max_state, t]\n",
    "    return list(reversed(res))\n",
    "viterbi()"
   ]
  },
  {
   "cell_type": "code",
   "execution_count": null,
   "metadata": {},
   "outputs": [],
   "source": []
  }
 ],
 "metadata": {
  "kernelspec": {
   "display_name": "Python 3",
   "language": "python",
   "name": "python3"
  },
  "language_info": {
   "codemirror_mode": {
    "name": "ipython",
    "version": 3
   },
   "file_extension": ".py",
   "mimetype": "text/x-python",
   "name": "python",
   "nbconvert_exporter": "python",
   "pygments_lexer": "ipython3",
   "version": "3.6.5"
  }
 },
 "nbformat": 4,
 "nbformat_minor": 4
}
